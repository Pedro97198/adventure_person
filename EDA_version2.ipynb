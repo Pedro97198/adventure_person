{
  "cells": [
    {
      "cell_type": "markdown",
      "metadata": {},
      "source": [
        "IMPORT OF LIBRARIES"
      ]
    },
    {
      "cell_type": "code",
      "execution_count": 1,
      "metadata": {
        "id": "biSREEPvE99o"
      },
      "outputs": [],
      "source": [
        "import os\n",
        "import pandas as pd"
      ]
    },
    {
      "cell_type": "markdown",
      "metadata": {},
      "source": [
        "OPEN DE CSV THAT WE HAVE TO USE"
      ]
    },
    {
      "cell_type": "code",
      "execution_count": 2,
      "metadata": {
        "id": "P4BVuo25HSwk"
      },
      "outputs": [],
      "source": [
        "person = pd.read_csv(\"Data/Person.Person.csv\")\n",
        "person_phone = pd.read_csv(\"Data/Person.PersonPhone.csv\")\n",
        "phone_number_type = pd.read_csv(\"Data/Person.PhoneNumberType.csv\")\n",
        "email_address = pd.read_csv(\"Data/Person.EmailAddress.csv\")\n",
        "password = pd.read_csv(\"Data/Person.Password.csv\")\n",
        "business_entity_contact = pd.read_csv(\"Data/Person.BusinessEntityContact.csv\")\n",
        "address_type = pd.read_csv(\"Data/Person.AddressType.csv\")\n",
        "business_entity_adress = pd.read_csv(\"Data/Person.BusinessEntityAdress.csv\")\n",
        "business_entity = pd.read_csv(\"Data/Person.BusinessEntity.csv\")\n",
        "business_entity_contact = pd.read_csv(\"Data/Person.BusinessEntityContact.csv\")\n",
        "contact_type = pd.read_csv(\"Data/Person.ContactType.csv\")\n",
        "state_province=pd.read_csv(\"Data/Person.StateProvince.csv\")\n",
        "state_province_country_region=pd.read_csv(\"Data/Person.vStateProvinceCountryRegion.csv\")\n",
        "country_region= pd.read_csv(\"Data/Person.CountryRegion.csv\")\n",
        "address = pd.read_csv(\"Data/Person.Address.csv\")\n",
        "aditional=pd.read_csv(\"Data/Person.vAdditionalContactInfo.csv\")\n"
      ]
    },
    {
      "cell_type": "markdown",
      "metadata": {},
      "source": [
        "CLEAN THE COLUMNS THAT CAN MAKE US ERRORRS"
      ]
    },
    {
      "cell_type": "code",
      "execution_count": 3,
      "metadata": {
        "id": "-B48GpSoPCB3"
      },
      "outputs": [],
      "source": [
        "dataframes = [aditional,person,state_province,address,country_region,state_province_country_region,business_entity_adress,address_type,phone_number_type,email_address,password,person_phone,business_entity,contact_type,business_entity_contact]\n",
        "columnas_a_eliminar = ['ModifiedDate', 'rowguid','Día','Mes','Año','Trimestre']\n",
        "\n",
        "\n",
        "for df in dataframes:\n",
        "    df.drop(columns=columnas_a_eliminar, errors='ignore', inplace=True)"
      ]
    },
    {
      "cell_type": "markdown",
      "metadata": {},
      "source": [
        "MAKE THE FIRST DATA FRAME"
      ]
    },
    {
      "cell_type": "code",
      "execution_count": 4,
      "metadata": {
        "id": "RBS0za17GsYH"
      },
      "outputs": [
        {
          "data": {
            "text/plain": [
              "Index(['BusinessEntityID', 'ContactTypeID', 'PersonID', 'CountryRegionCode',\n",
              "       'name_country', 'CountryRegionName', 'IsOnlyStateProvinceFlag',\n",
              "       'StateProvinceCode', 'StateProvinceID', 'StateProvinceName',\n",
              "       'TerritoryID', 'AddressID', 'AddressLine1', 'AddressLine2', 'City',\n",
              "       'PostalCode', 'SpatialLocation', 'AddressTypeID', 'name_type'],\n",
              "      dtype='object')"
            ]
          },
          "execution_count": 4,
          "metadata": {},
          "output_type": "execute_result"
        }
      ],
      "source": [
        "country_region = country_region.rename(columns={'Name': 'name_country'})\n",
        "state_province = state_province.rename(columns={'Name': 'name_province'})\n",
        "primerpaso = pd.merge(country_region, state_province, on='CountryRegionCode', how='left')\n",
        "segundopaso= pd.merge(primerpaso,address, on='StateProvinceID',how='left')\n",
        "address_type = address_type.rename(columns={'Name': 'name_type'})\n",
        "tercerpaso= pd.merge(address_type,business_entity_adress,on='AddressTypeID',how='left')\n",
        "tercerpaso.columns\n",
        "cuartopaso= pd.merge(segundopaso,tercerpaso,on='AddressID',how='left')\n",
        "cuartopaso.columns\n",
        "quintopaso=pd.merge(business_entity,business_entity_contact,on='BusinessEntityID', how='left')\n",
        "quintopaso.columns\n",
        "address_business=pd.merge(quintopaso,cuartopaso,on='BusinessEntityID', how='left')\n",
        "address_business.columns\n",
        "\n"
      ]
    },
    {
      "cell_type": "markdown",
      "metadata": {},
      "source": [
        "SECOND DATA FRAME"
      ]
    },
    {
      "cell_type": "code",
      "execution_count": 5,
      "metadata": {},
      "outputs": [
        {
          "data": {
            "text/plain": [
              "Index(['AdditionalContactInfo', 'BusinessEntityID', 'Demographics',\n",
              "       'Suma de EmailPromotion', 'FirstName', 'LastName', 'MiddleName',\n",
              "       'NameStyle', 'PersonType', 'Suffix', 'Title', 'name_type_phone',\n",
              "       'PhoneNumberTypeID', 'PhoneNumber', 'EmailAddress', 'EmailAddressID',\n",
              "       'PasswordHash', 'PasswordSalt'],\n",
              "      dtype='object')"
            ]
          },
          "execution_count": 5,
          "metadata": {},
          "output_type": "execute_result"
        }
      ],
      "source": [
        "phone_number_type = phone_number_type.rename(columns={'Name': 'name_type_phone'})\n",
        "primer=pd.merge(phone_number_type, person_phone,on='PhoneNumberTypeID',how='left')\n",
        "primer.columns\n",
        "segundo=pd.merge(person,primer,on='BusinessEntityID',how='left')\n",
        "segundo.columns\n",
        "tercero=pd.merge(segundo,email_address,on='BusinessEntityID', how='left')\n",
        "tercero.columns\n",
        "person_merge=pd.merge(tercero,password,on='BusinessEntityID', how='left')\n",
        "person_merge.columns\n"
      ]
    },
    {
      "cell_type": "markdown",
      "metadata": {},
      "source": [
        "CHECK IF IS NORMAL THE CUANTITY OF NaN THAT IS IS THE FIRST DATA FRAME"
      ]
    },
    {
      "cell_type": "code",
      "execution_count": 6,
      "metadata": {},
      "outputs": [
        {
          "name": "stdout",
          "output_type": "stream",
          "text": [
            "El número de valores NaN en la segunda columna de quintopaso es: 678\n"
          ]
        }
      ],
      "source": [
        "num_nan_segunda_columna = cuartopaso.iloc[:, 2].isnull().sum()\n",
        "print(\"El número de valores NaN en la segunda columna de quintopaso es:\", num_nan_segunda_columna)"
      ]
    },
    {
      "cell_type": "markdown",
      "metadata": {},
      "source": [
        "DOWNLOAD DE FINAL DATA "
      ]
    },
    {
      "cell_type": "code",
      "execution_count": 7,
      "metadata": {},
      "outputs": [],
      "source": [
        "import os\n",
        "\n",
        "# Crear la carpeta si no existe\n",
        "carpeta = \"Datos-2ªversion\"\n",
        "if not os.path.exists(carpeta):\n",
        "    os.makedirs(carpeta)\n",
        "\n",
        "# Rutas de los archivos CSV\n",
        "ruta_address_business = os.path.join(carpeta, 'address_business.csv')\n",
        "ruta_person_merge = os.path.join(carpeta, 'person_merge.csv')\n",
        "\n",
        "# Guardar los archivos CSV en la carpeta especificada\n",
        "address_business.to_csv(ruta_address_business, index=False)\n",
        "person_merge.to_csv(ruta_person_merge, index=False)\n"
      ]
    },
    {
      "cell_type": "code",
      "execution_count": null,
      "metadata": {},
      "outputs": [],
      "source": []
    }
  ],
  "metadata": {
    "colab": {
      "provenance": []
    },
    "kernelspec": {
      "display_name": "Python 3",
      "name": "python3"
    },
    "language_info": {
      "codemirror_mode": {
        "name": "ipython",
        "version": 3
      },
      "file_extension": ".py",
      "mimetype": "text/x-python",
      "name": "python",
      "nbconvert_exporter": "python",
      "pygments_lexer": "ipython3",
      "version": "3.11.8"
    }
  },
  "nbformat": 4,
  "nbformat_minor": 0
}
